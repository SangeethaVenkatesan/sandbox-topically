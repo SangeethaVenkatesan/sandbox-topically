{
 "cells": [
  {
   "cell_type": "markdown",
   "id": "e4a333fe",
   "metadata": {},
   "source": [
    "<a href=\"https://colab.research.google.com/github/cohere-ai/sandbox-topically/blob/main/notebooks/Intro%20-%20Topically%20with%20BERTopic.ipynb\" target=\"_parent\\\"><img src=\"https://colab.research.google.com/assets/colab-badge.svg\\\" alt=\"Open In Colab\"/></a>"
   ]
  },
  {
   "cell_type": "code",
   "execution_count": null,
   "id": "f81d3f26",
   "metadata": {},
   "outputs": [],
   "source": [
    "!pip install bertopic topically"
   ]
  },
  {
   "cell_type": "code",
   "execution_count": 14,
   "id": "df73e480",
   "metadata": {},
   "outputs": [],
   "source": [
    "from topically import Topically\n",
    "from bertopic import BERTopic\n",
    "import numpy as np\n",
    "import pandas as pd"
   ]
  },
  {
   "cell_type": "code",
   "execution_count": 2,
   "id": "782d9083",
   "metadata": {},
   "outputs": [
    {
     "name": "stdout",
     "output_type": "stream",
     "text": [
      "zsh:1: command not found: wget\r\n"
     ]
    }
   ],
   "source": [
    "!wget https://storage.googleapis.com/cohere-assets/blog/text-clustering/data/askhn3k_embeds.npy\n",
    "# or\n",
    "# !curl https://storage.googleapis.com/cohere-assets/blog/text-clustering/data/askhn3k_embeds.npy -o askhn3k_embeds.npy"
   ]
  },
  {
   "cell_type": "code",
   "execution_count": 15,
   "id": "4b370ebf",
   "metadata": {},
   "outputs": [
    {
     "name": "stdout",
     "output_type": "stream",
     "text": [
      "Loaded a DataFrame with 3000 rows and an embeddings matrix of dimensions (3000, 1024)\n"
     ]
    }
   ],
   "source": [
    "#Load the embeddings matrix\n",
    "embeds = np.load('askhn3k_embeds.npy')\n",
    "\n",
    "# Load the dataframe containing the text and metadata of the posts\n",
    "df = pd.read_csv('https://storage.googleapis.com/cohere-assets/blog/text-clustering/data/askhn3k_df.csv', index_col=0)\n",
    "\n",
    "print(f'Loaded a DataFrame with {len(df)} rows and an embeddings matrix of dimensions {embeds.shape}')"
   ]
  },
  {
   "cell_type": "code",
   "execution_count": 16,
   "id": "19c8caf6",
   "metadata": {},
   "outputs": [],
   "source": [
    "# Load and initialize BERTopic. Limit to 10 topics only.\n",
    "topic_model = BERTopic(nr_topics=10) \n",
    "\n",
    "# df is a dataframe. df['title'] is the column of text we're modeling\n",
    "df['topic'], probabilities = topic_model.fit_transform(df['title'], embeds)"
   ]
  },
  {
   "cell_type": "code",
   "execution_count": 17,
   "id": "ece904cb",
   "metadata": {},
   "outputs": [
    {
     "name": "stdout",
     "output_type": "stream",
     "text": [
      "Enter your Cohere API Key········\n"
     ]
    }
   ],
   "source": [
    "# Pass in Cohere API key, or it will ask for it\n",
    "app = Topically()"
   ]
  },
  {
   "cell_type": "code",
   "execution_count": 23,
   "id": "f4a8e1cf",
   "metadata": {},
   "outputs": [],
   "source": [
    "# Name each cluster. This will make one request to GENERATE for each cluster.\n",
    "# Since we have 10 clusters, this will call Cohere Generate 10 times.\n",
    "df['cluster_names'] = app.name_clusters((df['title'], df['topic']))"
   ]
  },
  {
   "cell_type": "code",
   "execution_count": 25,
   "id": "5695277a",
   "metadata": {},
   "outputs": [
    {
     "data": {
      "text/html": [
       "<div>\n",
       "<style scoped>\n",
       "    .dataframe tbody tr th:only-of-type {\n",
       "        vertical-align: middle;\n",
       "    }\n",
       "\n",
       "    .dataframe tbody tr th {\n",
       "        vertical-align: top;\n",
       "    }\n",
       "\n",
       "    .dataframe thead th {\n",
       "        text-align: right;\n",
       "    }\n",
       "</style>\n",
       "<table border=\"1\" class=\"dataframe\">\n",
       "  <thead>\n",
       "    <tr style=\"text-align: right;\">\n",
       "      <th></th>\n",
       "      <th>title</th>\n",
       "      <th>topic</th>\n",
       "      <th>cluster_names</th>\n",
       "    </tr>\n",
       "  </thead>\n",
       "  <tbody>\n",
       "    <tr>\n",
       "      <th>0</th>\n",
       "      <td>I'm a software engineer going blind, how shoul...</td>\n",
       "      <td>-1</td>\n",
       "      <td>Best Practices for Technical Talks</td>\n",
       "    </tr>\n",
       "    <tr>\n",
       "      <th>1</th>\n",
       "      <td>Am I the longest-serving programmer – 57 years...</td>\n",
       "      <td>4</td>\n",
       "      <td>How to become a better programmer?</td>\n",
       "    </tr>\n",
       "    <tr>\n",
       "      <th>2</th>\n",
       "      <td>Is S3 down?</td>\n",
       "      <td>-1</td>\n",
       "      <td>Best Practices for Technical Talks</td>\n",
       "    </tr>\n",
       "    <tr>\n",
       "      <th>3</th>\n",
       "      <td>What tech job would let me get away with the l...</td>\n",
       "      <td>-1</td>\n",
       "      <td>Best Practices for Technical Talks</td>\n",
       "    </tr>\n",
       "    <tr>\n",
       "      <th>4</th>\n",
       "      <td>What books changed the way you think about alm...</td>\n",
       "      <td>3</td>\n",
       "      <td>Programming and computer science</td>\n",
       "    </tr>\n",
       "    <tr>\n",
       "      <th>...</th>\n",
       "      <td>...</td>\n",
       "      <td>...</td>\n",
       "      <td>...</td>\n",
       "    </tr>\n",
       "    <tr>\n",
       "      <th>2995</th>\n",
       "      <td>Do you like/use Reddit's redesign?</td>\n",
       "      <td>-1</td>\n",
       "      <td>Best Practices for Technical Talks</td>\n",
       "    </tr>\n",
       "    <tr>\n",
       "      <th>2996</th>\n",
       "      <td>What's your best startup idea that you're not ...</td>\n",
       "      <td>-1</td>\n",
       "      <td>Best Practices for Technical Talks</td>\n",
       "    </tr>\n",
       "    <tr>\n",
       "      <th>2997</th>\n",
       "      <td>Freelancer? Seeking freelancer? (June 2021)</td>\n",
       "      <td>9</td>\n",
       "      <td>Freelance and contract</td>\n",
       "    </tr>\n",
       "    <tr>\n",
       "      <th>2998</th>\n",
       "      <td>How to learn about the history of computing?</td>\n",
       "      <td>7</td>\n",
       "      <td>How to learn math</td>\n",
       "    </tr>\n",
       "    <tr>\n",
       "      <th>2999</th>\n",
       "      <td>Would you pay $5/yr for HN?</td>\n",
       "      <td>-1</td>\n",
       "      <td>Best Practices for Technical Talks</td>\n",
       "    </tr>\n",
       "  </tbody>\n",
       "</table>\n",
       "<p>3000 rows × 3 columns</p>\n",
       "</div>"
      ],
      "text/plain": [
       "                                                  title  topic  \\\n",
       "0     I'm a software engineer going blind, how shoul...     -1   \n",
       "1     Am I the longest-serving programmer – 57 years...      4   \n",
       "2                                           Is S3 down?     -1   \n",
       "3     What tech job would let me get away with the l...     -1   \n",
       "4     What books changed the way you think about alm...      3   \n",
       "...                                                 ...    ...   \n",
       "2995                 Do you like/use Reddit's redesign?     -1   \n",
       "2996  What's your best startup idea that you're not ...     -1   \n",
       "2997        Freelancer? Seeking freelancer? (June 2021)      9   \n",
       "2998       How to learn about the history of computing?      7   \n",
       "2999                        Would you pay $5/yr for HN?     -1   \n",
       "\n",
       "                           cluster_names  \n",
       "0     Best Practices for Technical Talks  \n",
       "1     How to become a better programmer?  \n",
       "2     Best Practices for Technical Talks  \n",
       "3     Best Practices for Technical Talks  \n",
       "4       Programming and computer science  \n",
       "...                                  ...  \n",
       "2995  Best Practices for Technical Talks  \n",
       "2996  Best Practices for Technical Talks  \n",
       "2997              Freelance and contract  \n",
       "2998                   How to learn math  \n",
       "2999  Best Practices for Technical Talks  \n",
       "\n",
       "[3000 rows x 3 columns]"
      ]
     },
     "execution_count": 25,
     "metadata": {},
     "output_type": "execute_result"
    }
   ],
   "source": [
    "# Preview the generated names\n",
    "df[['title', 'topic', 'cluster_names']]"
   ]
  },
  {
   "cell_type": "markdown",
   "id": "b35e2634",
   "metadata": {},
   "source": [
    "We can run name_clusters again to get new names. There are several ways (more on the way) to improve the generated titles:\n",
    "\n",
    "1. Make a custom prompt specific to the dataset. Use the prompts in prompts/prompts.py as a starting point.\n",
    "1. Pass `num_generations=5` to `name_clusters()`. This will tell Cohere Generate to return five suggested titles for each topic, and the one with the highest likelihood would be selected as the topic.\n",
    "1. [coming soon] Include cTFIDF keywords in the prompt"
   ]
  }
 ],
 "metadata": {
  "kernelspec": {
   "display_name": "Python 3 (ipykernel)",
   "language": "python",
   "name": "python3"
  },
  "language_info": {
   "codemirror_mode": {
    "name": "ipython",
    "version": 3
   },
   "file_extension": ".py",
   "mimetype": "text/x-python",
   "name": "python",
   "nbconvert_exporter": "python",
   "pygments_lexer": "ipython3",
   "version": "3.9.13"
  }
 },
 "nbformat": 4,
 "nbformat_minor": 5
}
