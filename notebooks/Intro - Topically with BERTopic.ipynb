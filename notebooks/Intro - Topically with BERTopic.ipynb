{
 "cells": [
  {
   "cell_type": "code",
   "execution_count": 1,
   "id": "df73e480",
   "metadata": {},
   "outputs": [
    {
     "name": "stderr",
     "output_type": "stream",
     "text": [
      "/Users/orca/miniforge3/envs/topically/lib/python3.9/site-packages/tqdm/auto.py:22: TqdmWarning: IProgress not found. Please update jupyter and ipywidgets. See https://ipywidgets.readthedocs.io/en/stable/user_install.html\n",
      "  from .autonotebook import tqdm as notebook_tqdm\n"
     ]
    }
   ],
   "source": [
    "import numpy as np\n",
    "import pandas as pd\n",
    "from bertopic import BERTopic"
   ]
  },
  {
   "cell_type": "code",
   "execution_count": 2,
   "id": "782d9083",
   "metadata": {},
   "outputs": [
    {
     "name": "stdout",
     "output_type": "stream",
     "text": [
      "zsh:1: command not found: wget\r\n"
     ]
    }
   ],
   "source": [
    "!wget https://storage.googleapis.com/cohere-assets/blog/text-clustering/data/askhn3k_embeds.npy\n",
    "# or\n",
    "# !curl https://storage.googleapis.com/cohere-assets/blog/text-clustering/data/askhn3k_embeds.npy -o askhn3k_embeds.npy"
   ]
  },
  {
   "cell_type": "code",
   "execution_count": 3,
   "id": "4b370ebf",
   "metadata": {},
   "outputs": [
    {
     "name": "stdout",
     "output_type": "stream",
     "text": [
      "Loaded a DataFrame with 3000 rows and an embeddings matrix of dimensions (3000, 1024)\n"
     ]
    }
   ],
   "source": [
    "#Load the embeddings matrix\n",
    "embeds = np.load('askhn3k_embeds.npy')\n",
    "\n",
    "# Load the dataframe containing the text and metadata of the posts\n",
    "df = pd.read_csv('https://storage.googleapis.com/cohere-assets/blog/text-clustering/data/askhn3k_df.csv', index_col=0)\n",
    "\n",
    "print(f'Loaded a DataFrame with {len(df)} rows and an embeddings matrix of dimensions {embeds.shape}')"
   ]
  },
  {
   "cell_type": "code",
   "execution_count": 5,
   "id": "19c8caf6",
   "metadata": {},
   "outputs": [],
   "source": [
    "topic_model = BERTopic(calculate_probabilities=True,\n",
    "                       nr_topics=10)\n",
    "\n",
    "df['topic'], probabilities = topic_model.fit_transform(df['title'], embeds)"
   ]
  },
  {
   "cell_type": "code",
   "execution_count": 6,
   "id": "ece904cb",
   "metadata": {},
   "outputs": [],
   "source": [
    "\n",
    "import topically\n",
    "import importlib\n",
    "importlib.reload(topically)\n",
    "app = topically.Topically('Bp64haoZmzevdJsObm1nKZGPWMZK3ziW3ArilShA')"
   ]
  },
  {
   "cell_type": "code",
   "execution_count": 8,
   "id": "f4a8e1cf",
   "metadata": {},
   "outputs": [],
   "source": [
    "df['cluster_names'] = app.name_clusters((df['title'], df['topic']))"
   ]
  },
  {
   "cell_type": "code",
   "execution_count": 10,
   "id": "91baff55",
   "metadata": {},
   "outputs": [
    {
     "data": {
      "text/html": [
       "<div>\n",
       "<style scoped>\n",
       "    .dataframe tbody tr th:only-of-type {\n",
       "        vertical-align: middle;\n",
       "    }\n",
       "\n",
       "    .dataframe tbody tr th {\n",
       "        vertical-align: top;\n",
       "    }\n",
       "\n",
       "    .dataframe thead th {\n",
       "        text-align: right;\n",
       "    }\n",
       "</style>\n",
       "<table border=\"1\" class=\"dataframe\">\n",
       "  <thead>\n",
       "    <tr style=\"text-align: right;\">\n",
       "      <th></th>\n",
       "      <th>title</th>\n",
       "      <th>topic</th>\n",
       "      <th>cluster_names</th>\n",
       "    </tr>\n",
       "  </thead>\n",
       "  <tbody>\n",
       "    <tr>\n",
       "      <th>0</th>\n",
       "      <td>I'm a software engineer going blind, how shoul...</td>\n",
       "      <td>-1</td>\n",
       "      <td>Build an app</td>\n",
       "    </tr>\n",
       "    <tr>\n",
       "      <th>1</th>\n",
       "      <td>Am I the longest-serving programmer – 57 years...</td>\n",
       "      <td>4</td>\n",
       "      <td>Software development and programmers</td>\n",
       "    </tr>\n",
       "    <tr>\n",
       "      <th>2</th>\n",
       "      <td>Is S3 down?</td>\n",
       "      <td>-1</td>\n",
       "      <td>Build an app</td>\n",
       "    </tr>\n",
       "    <tr>\n",
       "      <th>3</th>\n",
       "      <td>What tech job would let me get away with the l...</td>\n",
       "      <td>-1</td>\n",
       "      <td>Build an app</td>\n",
       "    </tr>\n",
       "    <tr>\n",
       "      <th>4</th>\n",
       "      <td>What books changed the way you think about alm...</td>\n",
       "      <td>3</td>\n",
       "      <td>Books and reading</td>\n",
       "    </tr>\n",
       "    <tr>\n",
       "      <th>...</th>\n",
       "      <td>...</td>\n",
       "      <td>...</td>\n",
       "      <td>...</td>\n",
       "    </tr>\n",
       "    <tr>\n",
       "      <th>2995</th>\n",
       "      <td>Do you like/use Reddit's redesign?</td>\n",
       "      <td>-1</td>\n",
       "      <td>Build an app</td>\n",
       "    </tr>\n",
       "    <tr>\n",
       "      <th>2996</th>\n",
       "      <td>What's your best startup idea that you're not ...</td>\n",
       "      <td>-1</td>\n",
       "      <td>Build an app</td>\n",
       "    </tr>\n",
       "    <tr>\n",
       "      <th>2997</th>\n",
       "      <td>Freelancer? Seeking freelancer? (June 2021)</td>\n",
       "      <td>0</td>\n",
       "      <td>Who is hiring?</td>\n",
       "    </tr>\n",
       "    <tr>\n",
       "      <th>2998</th>\n",
       "      <td>How to learn about the history of computing?</td>\n",
       "      <td>-1</td>\n",
       "      <td>Build an app</td>\n",
       "    </tr>\n",
       "    <tr>\n",
       "      <th>2999</th>\n",
       "      <td>Would you pay $5/yr for HN?</td>\n",
       "      <td>8</td>\n",
       "      <td>General discussion</td>\n",
       "    </tr>\n",
       "  </tbody>\n",
       "</table>\n",
       "<p>3000 rows × 3 columns</p>\n",
       "</div>"
      ],
      "text/plain": [
       "                                                  title  topic  \\\n",
       "0     I'm a software engineer going blind, how shoul...     -1   \n",
       "1     Am I the longest-serving programmer – 57 years...      4   \n",
       "2                                           Is S3 down?     -1   \n",
       "3     What tech job would let me get away with the l...     -1   \n",
       "4     What books changed the way you think about alm...      3   \n",
       "...                                                 ...    ...   \n",
       "2995                 Do you like/use Reddit's redesign?     -1   \n",
       "2996  What's your best startup idea that you're not ...     -1   \n",
       "2997        Freelancer? Seeking freelancer? (June 2021)      0   \n",
       "2998       How to learn about the history of computing?     -1   \n",
       "2999                        Would you pay $5/yr for HN?      8   \n",
       "\n",
       "                             cluster_names  \n",
       "0                             Build an app  \n",
       "1     Software development and programmers  \n",
       "2                             Build an app  \n",
       "3                             Build an app  \n",
       "4                        Books and reading  \n",
       "...                                    ...  \n",
       "2995                          Build an app  \n",
       "2996                          Build an app  \n",
       "2997                        Who is hiring?  \n",
       "2998                          Build an app  \n",
       "2999                    General discussion  \n",
       "\n",
       "[3000 rows x 3 columns]"
      ]
     },
     "execution_count": 10,
     "metadata": {},
     "output_type": "execute_result"
    }
   ],
   "source": [
    "df[['title', 'topic', 'cluster_names']]"
   ]
  },
  {
   "cell_type": "code",
   "execution_count": 13,
   "id": "778bb729",
   "metadata": {},
   "outputs": [
    {
     "name": "stdout",
     "output_type": "stream",
     "text": [
      "Enter your Cohere API Key········\n"
     ]
    },
    {
     "data": {
      "text/html": [
       "<div>\n",
       "<style scoped>\n",
       "    .dataframe tbody tr th:only-of-type {\n",
       "        vertical-align: middle;\n",
       "    }\n",
       "\n",
       "    .dataframe tbody tr th {\n",
       "        vertical-align: top;\n",
       "    }\n",
       "\n",
       "    .dataframe thead th {\n",
       "        text-align: right;\n",
       "    }\n",
       "</style>\n",
       "<table border=\"1\" class=\"dataframe\">\n",
       "  <thead>\n",
       "    <tr style=\"text-align: right;\">\n",
       "      <th></th>\n",
       "      <th>title</th>\n",
       "      <th>topic</th>\n",
       "      <th>topic_names</th>\n",
       "    </tr>\n",
       "  </thead>\n",
       "  <tbody>\n",
       "    <tr>\n",
       "      <th>0</th>\n",
       "      <td>I'm a software engineer going blind, how shoul...</td>\n",
       "      <td>-1</td>\n",
       "      <td>Career</td>\n",
       "    </tr>\n",
       "    <tr>\n",
       "      <th>1</th>\n",
       "      <td>Am I the longest-serving programmer – 57 years...</td>\n",
       "      <td>4</td>\n",
       "      <td>Becoming a better developer</td>\n",
       "    </tr>\n",
       "    <tr>\n",
       "      <th>2</th>\n",
       "      <td>Is S3 down?</td>\n",
       "      <td>-1</td>\n",
       "      <td>Career</td>\n",
       "    </tr>\n",
       "    <tr>\n",
       "      <th>3</th>\n",
       "      <td>What tech job would let me get away with the l...</td>\n",
       "      <td>-1</td>\n",
       "      <td>Career</td>\n",
       "    </tr>\n",
       "    <tr>\n",
       "      <th>4</th>\n",
       "      <td>What books changed the way you think about alm...</td>\n",
       "      <td>3</td>\n",
       "      <td>Books and literature</td>\n",
       "    </tr>\n",
       "    <tr>\n",
       "      <th>...</th>\n",
       "      <td>...</td>\n",
       "      <td>...</td>\n",
       "      <td>...</td>\n",
       "    </tr>\n",
       "    <tr>\n",
       "      <th>2995</th>\n",
       "      <td>Do you like/use Reddit's redesign?</td>\n",
       "      <td>-1</td>\n",
       "      <td>Career</td>\n",
       "    </tr>\n",
       "    <tr>\n",
       "      <th>2996</th>\n",
       "      <td>What's your best startup idea that you're not ...</td>\n",
       "      <td>-1</td>\n",
       "      <td>Career</td>\n",
       "    </tr>\n",
       "    <tr>\n",
       "      <th>2997</th>\n",
       "      <td>Freelancer? Seeking freelancer? (June 2021)</td>\n",
       "      <td>0</td>\n",
       "      <td>Who is hiring?</td>\n",
       "    </tr>\n",
       "    <tr>\n",
       "      <th>2998</th>\n",
       "      <td>How to learn about the history of computing?</td>\n",
       "      <td>-1</td>\n",
       "      <td>Career</td>\n",
       "    </tr>\n",
       "    <tr>\n",
       "      <th>2999</th>\n",
       "      <td>Would you pay $5/yr for HN?</td>\n",
       "      <td>-1</td>\n",
       "      <td>Career</td>\n",
       "    </tr>\n",
       "  </tbody>\n",
       "</table>\n",
       "<p>3000 rows × 3 columns</p>\n",
       "</div>"
      ],
      "text/plain": [
       "                                                  title  topic  \\\n",
       "0     I'm a software engineer going blind, how shoul...     -1   \n",
       "1     Am I the longest-serving programmer – 57 years...      4   \n",
       "2                                           Is S3 down?     -1   \n",
       "3     What tech job would let me get away with the l...     -1   \n",
       "4     What books changed the way you think about alm...      3   \n",
       "...                                                 ...    ...   \n",
       "2995                 Do you like/use Reddit's redesign?     -1   \n",
       "2996  What's your best startup idea that you're not ...     -1   \n",
       "2997        Freelancer? Seeking freelancer? (June 2021)      0   \n",
       "2998       How to learn about the history of computing?     -1   \n",
       "2999                        Would you pay $5/yr for HN?     -1   \n",
       "\n",
       "                      topic_names  \n",
       "0                          Career  \n",
       "1     Becoming a better developer  \n",
       "2                          Career  \n",
       "3                          Career  \n",
       "4            Books and literature  \n",
       "...                           ...  \n",
       "2995                       Career  \n",
       "2996                       Career  \n",
       "2997               Who is hiring?  \n",
       "2998                       Career  \n",
       "2999                       Career  \n",
       "\n",
       "[3000 rows x 3 columns]"
      ]
     },
     "execution_count": 13,
     "metadata": {},
     "output_type": "execute_result"
    }
   ],
   "source": []
  },
  {
   "cell_type": "code",
   "execution_count": null,
   "id": "b1e74825",
   "metadata": {},
   "outputs": [],
   "source": []
  }
 ],
 "metadata": {
  "kernelspec": {
   "display_name": "Python 3 (ipykernel)",
   "language": "python",
   "name": "python3"
  },
  "language_info": {
   "codemirror_mode": {
    "name": "ipython",
    "version": 3
   },
   "file_extension": ".py",
   "mimetype": "text/x-python",
   "name": "python",
   "nbconvert_exporter": "python",
   "pygments_lexer": "ipython3",
   "version": "3.9.13"
  }
 },
 "nbformat": 4,
 "nbformat_minor": 5
}
